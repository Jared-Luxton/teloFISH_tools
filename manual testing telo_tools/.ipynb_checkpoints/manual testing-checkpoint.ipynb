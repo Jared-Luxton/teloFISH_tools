{
 "cells": [
  {
   "cell_type": "markdown",
   "metadata": {},
   "source": [
    "# Testing functions in telo_tools for handling individual telomere length data"
   ]
  },
  {
   "cell_type": "code",
   "execution_count": 1,
   "metadata": {},
   "outputs": [],
   "source": [
    "# enables access to directories/files\n",
    "import os\n",
    "\n",
    "# for handling data\n",
    "import numpy as np\n",
    "from numpy import array\n",
    "import pandas as pd\n",
    "from pandas import ExcelWriter\n",
    "from pandas import ExcelFile\n",
    "\n",
    "# graphing\n",
    "import matplotlib.pyplot as plt\n",
    "from matplotlib.ticker import StrMethodFormatter\n",
    "from matplotlib import colors\n",
    "from matplotlib.ticker import PercentFormatter\n",
    "import seaborn as sns\n",
    "\n",
    "# for loading telo data column containing individual telomere length values\n",
    "from ast import literal_eval\n",
    "\n",
    "# statistics\n",
    "from scipy import stats\n",
    "\n",
    "# accessing telo_tools module, which is in the parent directory, for testing\n",
    "import sys \n",
    "sys.path.append('..')\n",
    "import telo_tools"
   ]
  },
  {
   "cell_type": "code",
   "execution_count": 2,
   "metadata": {},
   "outputs": [],
   "source": [
    "# fxn for reading files\n",
    "# test_df['telo data'] = test_df['telo data'].apply(lambda row: np.array(literal_eval(row)))"
   ]
  },
  {
   "cell_type": "markdown",
   "metadata": {},
   "source": [
    "## Test compiling individual telomere length data and generating data into a dataframe"
   ]
  },
  {
   "cell_type": "code",
   "execution_count": 3,
   "metadata": {},
   "outputs": [
    {
     "name": "stdout",
     "output_type": "stream",
     "text": [
      "xyz9999_FD45.xlsx telomere data acquisition in progress..\n",
      "xyz9999_L-180.xlsx telomere data acquisition in progress..\n",
      "xyz9999_L-60.xlsx telomere data acquisition in progress..\n",
      "Done collecting all telomere length excel files\n"
     ]
    }
   ],
   "source": [
    "# compiling test data from excel files into a dict\n",
    "test_dict = telo_tools.generate_dictionary_for_telomere_length_data('.')"
   ]
  },
  {
   "cell_type": "code",
   "execution_count": 63,
   "metadata": {},
   "outputs": [
    {
     "data": {
      "text/html": [
       "<div>\n",
       "<style scoped>\n",
       "    .dataframe tbody tr th:only-of-type {\n",
       "        vertical-align: middle;\n",
       "    }\n",
       "\n",
       "    .dataframe tbody tr th {\n",
       "        vertical-align: top;\n",
       "    }\n",
       "\n",
       "    .dataframe thead th {\n",
       "        text-align: right;\n",
       "    }\n",
       "</style>\n",
       "<table border=\"1\" class=\"dataframe\">\n",
       "  <thead>\n",
       "    <tr style=\"text-align: right;\">\n",
       "      <th></th>\n",
       "      <th>sample id</th>\n",
       "      <th>timepoint</th>\n",
       "      <th>telo data</th>\n",
       "      <th>telo means</th>\n",
       "      <th>Q1</th>\n",
       "      <th>Q2-3</th>\n",
       "      <th>Q4</th>\n",
       "    </tr>\n",
       "  </thead>\n",
       "  <tbody>\n",
       "    <tr>\n",
       "      <th>0</th>\n",
       "      <td>9999</td>\n",
       "      <td>FD45</td>\n",
       "      <td>0        8695.0\n",
       "1        9606.0\n",
       "2        9669....</td>\n",
       "      <td>9261.618841</td>\n",
       "      <td>telos quartile 1 &lt;0.25</td>\n",
       "      <td>telos quartile 2-3 &gt;0.25 &amp; &lt;0.75</td>\n",
       "      <td>telos quartile 4 &gt;0.75</td>\n",
       "    </tr>\n",
       "    <tr>\n",
       "      <th>1</th>\n",
       "      <td>9999</td>\n",
       "      <td>L-180</td>\n",
       "      <td>0       13637.0\n",
       "1        8115.0\n",
       "2       13243....</td>\n",
       "      <td>10317.742572</td>\n",
       "      <td>telos quartile 1 &lt;0.25</td>\n",
       "      <td>telos quartile 2-3 &gt;0.25 &amp; &lt;0.75</td>\n",
       "      <td>telos quartile 4 &gt;0.75</td>\n",
       "    </tr>\n",
       "    <tr>\n",
       "      <th>2</th>\n",
       "      <td>9999</td>\n",
       "      <td>L-60</td>\n",
       "      <td>0       12514.0\n",
       "1       13037.0\n",
       "2       15085....</td>\n",
       "      <td>10801.377174</td>\n",
       "      <td>telos quartile 1 &lt;0.25</td>\n",
       "      <td>telos quartile 2-3 &gt;0.25 &amp; &lt;0.75</td>\n",
       "      <td>telos quartile 4 &gt;0.75</td>\n",
       "    </tr>\n",
       "  </tbody>\n",
       "</table>\n",
       "</div>"
      ],
      "text/plain": [
       "  sample id timepoint                                          telo data  \\\n",
       "0      9999      FD45  0        8695.0\n",
       "1        9606.0\n",
       "2        9669....   \n",
       "1      9999     L-180  0       13637.0\n",
       "1        8115.0\n",
       "2       13243....   \n",
       "2      9999      L-60  0       12514.0\n",
       "1       13037.0\n",
       "2       15085....   \n",
       "\n",
       "     telo means                      Q1                              Q2-3  \\\n",
       "0   9261.618841  telos quartile 1 <0.25  telos quartile 2-3 >0.25 & <0.75   \n",
       "1  10317.742572  telos quartile 1 <0.25  telos quartile 2-3 >0.25 & <0.75   \n",
       "2  10801.377174  telos quartile 1 <0.25  telos quartile 2-3 >0.25 & <0.75   \n",
       "\n",
       "                       Q4  \n",
       "0  telos quartile 4 >0.75  \n",
       "1  telos quartile 4 >0.75  \n",
       "2  telos quartile 4 >0.75  "
      ]
     },
     "execution_count": 63,
     "metadata": {},
     "output_type": "execute_result"
    }
   ],
   "source": [
    "# generating a pandas dataframe from the dict\n",
    "test_df = telo_tools.make_dataframe_from_telomere_data_dict(test_dict)\n",
    "test_df.head(4)"
   ]
  },
  {
   "cell_type": "markdown",
   "metadata": {},
   "source": [
    "## Test counting short/medium/long individual telomeres"
   ]
  },
  {
   "cell_type": "code",
   "execution_count": 64,
   "metadata": {},
   "outputs": [
    {
     "data": {
      "text/html": [
       "<div>\n",
       "<style scoped>\n",
       "    .dataframe tbody tr th:only-of-type {\n",
       "        vertical-align: middle;\n",
       "    }\n",
       "\n",
       "    .dataframe tbody tr th {\n",
       "        vertical-align: top;\n",
       "    }\n",
       "\n",
       "    .dataframe thead th {\n",
       "        text-align: right;\n",
       "    }\n",
       "</style>\n",
       "<table border=\"1\" class=\"dataframe\">\n",
       "  <thead>\n",
       "    <tr style=\"text-align: right;\">\n",
       "      <th></th>\n",
       "      <th>sample id</th>\n",
       "      <th>timepoint</th>\n",
       "      <th>telo data</th>\n",
       "      <th>telo means</th>\n",
       "      <th>Q1</th>\n",
       "      <th>Q2-3</th>\n",
       "      <th>Q4</th>\n",
       "    </tr>\n",
       "  </thead>\n",
       "  <tbody>\n",
       "    <tr>\n",
       "      <th>0</th>\n",
       "      <td>9999</td>\n",
       "      <td>L-180</td>\n",
       "      <td>0       13637.0\n",
       "1        8115.0\n",
       "2       13243....</td>\n",
       "      <td>10317.742572</td>\n",
       "      <td>[1380]</td>\n",
       "      <td>[2760]</td>\n",
       "      <td>[1380]</td>\n",
       "    </tr>\n",
       "    <tr>\n",
       "      <th>1</th>\n",
       "      <td>9999</td>\n",
       "      <td>L-60</td>\n",
       "      <td>0       12514.0\n",
       "1       13037.0\n",
       "2       15085....</td>\n",
       "      <td>10801.377174</td>\n",
       "      <td>[1328]</td>\n",
       "      <td>[2460]</td>\n",
       "      <td>[1732]</td>\n",
       "    </tr>\n",
       "    <tr>\n",
       "      <th>2</th>\n",
       "      <td>9999</td>\n",
       "      <td>FD45</td>\n",
       "      <td>0        8695.0\n",
       "1        9606.0\n",
       "2        9669....</td>\n",
       "      <td>9261.618841</td>\n",
       "      <td>[1970]</td>\n",
       "      <td>[2769]</td>\n",
       "      <td>[781]</td>\n",
       "    </tr>\n",
       "  </tbody>\n",
       "</table>\n",
       "</div>"
      ],
      "text/plain": [
       "  sample id timepoint                                          telo data  \\\n",
       "0      9999     L-180  0       13637.0\n",
       "1        8115.0\n",
       "2       13243....   \n",
       "1      9999      L-60  0       12514.0\n",
       "1       13037.0\n",
       "2       15085....   \n",
       "2      9999      FD45  0        8695.0\n",
       "1        9606.0\n",
       "2        9669....   \n",
       "\n",
       "     telo means      Q1    Q2-3      Q4  \n",
       "0  10317.742572  [1380]  [2760]  [1380]  \n",
       "1  10801.377174  [1328]  [2460]  [1732]  \n",
       "2   9261.618841  [1970]  [2769]   [781]  "
      ]
     },
     "execution_count": 64,
     "metadata": {},
     "output_type": "execute_result"
    }
   ],
   "source": [
    "# declaring a list of \n",
    "timepoint_list = ['L-180', 'L-60', 'FD45', 'FD90', 'FD140', 'FD260', 'R+5', 'R+7', 'R+60', 'R+105', 'R+180', 'R+270']\n",
    "\n",
    "telo_tools.calculate_apply_teloQuartiles_dataframe(test_df, timepoint_list)"
   ]
  },
  {
   "cell_type": "markdown",
   "metadata": {},
   "source": [
    "## Test exploding individual telomere length measurements into the dataframe as rows"
   ]
  },
  {
   "cell_type": "code",
   "execution_count": 65,
   "metadata": {},
   "outputs": [],
   "source": [
    "test_df2 = telo_tools.explode_individual_telos(test_df)"
   ]
  },
  {
   "cell_type": "code",
   "execution_count": 66,
   "metadata": {},
   "outputs": [
    {
     "name": "stdout",
     "output_type": "stream",
     "text": [
      "(16560, 7)\n"
     ]
    },
    {
     "data": {
      "text/html": [
       "<div>\n",
       "<style scoped>\n",
       "    .dataframe tbody tr th:only-of-type {\n",
       "        vertical-align: middle;\n",
       "    }\n",
       "\n",
       "    .dataframe tbody tr th {\n",
       "        vertical-align: top;\n",
       "    }\n",
       "\n",
       "    .dataframe thead th {\n",
       "        text-align: right;\n",
       "    }\n",
       "</style>\n",
       "<table border=\"1\" class=\"dataframe\">\n",
       "  <thead>\n",
       "    <tr style=\"text-align: right;\">\n",
       "      <th></th>\n",
       "      <th>sample id</th>\n",
       "      <th>timepoint</th>\n",
       "      <th>telo means</th>\n",
       "      <th>Q1</th>\n",
       "      <th>Q2-3</th>\n",
       "      <th>Q4</th>\n",
       "      <th>individual telos</th>\n",
       "    </tr>\n",
       "  </thead>\n",
       "  <tbody>\n",
       "    <tr>\n",
       "      <th>0</th>\n",
       "      <td>9999</td>\n",
       "      <td>FD45</td>\n",
       "      <td>9261.618841</td>\n",
       "      <td>telos quartile 1 &lt;0.25</td>\n",
       "      <td>telos quartile 2-3 &gt;0.25 &amp; &lt;0.75</td>\n",
       "      <td>telos quartile 4 &gt;0.75</td>\n",
       "      <td>8695</td>\n",
       "    </tr>\n",
       "    <tr>\n",
       "      <th>1</th>\n",
       "      <td>9999</td>\n",
       "      <td>L-180</td>\n",
       "      <td>10317.742572</td>\n",
       "      <td>telos quartile 1 &lt;0.25</td>\n",
       "      <td>telos quartile 2-3 &gt;0.25 &amp; &lt;0.75</td>\n",
       "      <td>telos quartile 4 &gt;0.75</td>\n",
       "      <td>13637</td>\n",
       "    </tr>\n",
       "    <tr>\n",
       "      <th>2</th>\n",
       "      <td>9999</td>\n",
       "      <td>L-60</td>\n",
       "      <td>10801.377174</td>\n",
       "      <td>telos quartile 1 &lt;0.25</td>\n",
       "      <td>telos quartile 2-3 &gt;0.25 &amp; &lt;0.75</td>\n",
       "      <td>telos quartile 4 &gt;0.75</td>\n",
       "      <td>12514</td>\n",
       "    </tr>\n",
       "  </tbody>\n",
       "</table>\n",
       "</div>"
      ],
      "text/plain": [
       "  sample id timepoint    telo means                      Q1  \\\n",
       "0      9999      FD45   9261.618841  telos quartile 1 <0.25   \n",
       "1      9999     L-180  10317.742572  telos quartile 1 <0.25   \n",
       "2      9999      L-60  10801.377174  telos quartile 1 <0.25   \n",
       "\n",
       "                               Q2-3                      Q4  individual telos  \n",
       "0  telos quartile 2-3 >0.25 & <0.75  telos quartile 4 >0.75              8695  \n",
       "1  telos quartile 2-3 >0.25 & <0.75  telos quartile 4 >0.75             13637  \n",
       "2  telos quartile 2-3 >0.25 & <0.75  telos quartile 4 >0.75             12514  "
      ]
     },
     "execution_count": 66,
     "metadata": {},
     "output_type": "execute_result"
    }
   ],
   "source": [
    "print(test_df2.shape)\n",
    "test_df2.head(3)"
   ]
  },
  {
   "cell_type": "code",
   "execution_count": 122,
   "metadata": {},
   "outputs": [
    {
     "name": "stdout",
     "output_type": "stream",
     "text": [
      "The autoreload extension is already loaded. To reload it, use:\n",
      "  %reload_ext autoreload\n"
     ]
    }
   ],
   "source": [
    "import importlib\n",
    "%load_ext autoreload\n",
    "%autoreload 2\n",
    "%reload_ext autoreload"
   ]
  },
  {
   "cell_type": "markdown",
   "metadata": {},
   "source": [
    "## Testing graphing by histogram"
   ]
  },
  {
   "cell_type": "code",
   "execution_count": 130,
   "metadata": {},
   "outputs": [],
   "source": [
    "def histogram_plot_groups(x=None, df=None, sample_id_col=None, groupby=None, \n",
    "                          num_samps_per_group=None, ordered_timepoint_list=None):\n",
    "    \n",
    "    all_samples = list(df[sample_id_col].unique())\n",
    "    group_df = df.groupby(groupby)\n",
    "    \n",
    "    for sample in all_samples:\n",
    "        timepoint_telo_values_dict = {}\n",
    "        plot_df = group_df.get_group(sample)\n",
    "        plot_df = order_timepoint_col(plot_df, ordered_timepoint_list)\n",
    "\n",
    "        sample_unique_timepoints = list(plot_df['timepoint'].unique())\n",
    "        \n",
    "        for timepoint in sample_unique_timepoints:\n",
    "            timepoint_telo_values_dict[timepoint] = plot_df[plot_df['timepoint'] == timepoint][x]\n",
    "            \n",
    "        if num_samps_per_group == 4:\n",
    "            initial_timept, second_timept, third_timept = map(timepoint_telo_values_dict.get, sample_unique_timepoints)\n",
    "        \n",
    "#         elif num_samps_per_group == \n"
   ]
  },
  {
   "cell_type": "code",
   "execution_count": 131,
   "metadata": {},
   "outputs": [],
   "source": [
    "def order_timepoint_col(df, ordered_timepoint_list):\n",
    "    df['timepoint'] = df['timepoint'].astype('category')\n",
    "    df['timepoint'].cat.set_categories(ordered_timepoint_list, inplace=True)\n",
    "    df = df.sort_values(['sample id', 'timepoint']).reset_index(drop=True)\n",
    "    \n",
    "    return df"
   ]
  },
  {
   "cell_type": "code",
   "execution_count": 132,
   "metadata": {},
   "outputs": [],
   "source": [
    "timepoint_list = ['L-180', 'L-60', 'FD45', 'FD90', 'FD140', 'FD260', 'R+5', 'R+7', 'R+60', 'R+105', 'R+180', 'R+270']\n",
    "\n",
    "histogram_plot_groups(x='individual telos', df=test_df2, \n",
    "                      sample_id_col='sample id', groupby='sample id', num_samps_per_group=3, ordered_timepoint_list=timepoint_list)"
   ]
  },
  {
   "cell_type": "code",
   "execution_count": null,
   "metadata": {},
   "outputs": [],
   "source": []
  }
 ],
 "metadata": {
  "kernelspec": {
   "display_name": "Python 3",
   "language": "python",
   "name": "python3"
  },
  "language_info": {
   "codemirror_mode": {
    "name": "ipython",
    "version": 3
   },
   "file_extension": ".py",
   "mimetype": "text/x-python",
   "name": "python",
   "nbconvert_exporter": "python",
   "pygments_lexer": "ipython3",
   "version": "3.7.4"
  },
  "toc-autonumbering": true
 },
 "nbformat": 4,
 "nbformat_minor": 2
}
