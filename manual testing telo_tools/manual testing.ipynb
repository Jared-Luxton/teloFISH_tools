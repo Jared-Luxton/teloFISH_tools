{
 "cells": [
  {
   "cell_type": "markdown",
   "metadata": {},
   "source": [
    "# Testing functions in telo_tools for handling individual telomere length data"
   ]
  },
  {
   "cell_type": "code",
   "execution_count": 23,
   "metadata": {},
   "outputs": [],
   "source": [
    "# enables access to directories/files\n",
    "import os\n",
    "\n",
    "# for handling data\n",
    "import numpy as np\n",
    "from numpy import array\n",
    "import pandas as pd\n",
    "from pandas import ExcelWriter\n",
    "from pandas import ExcelFile\n",
    "\n",
    "# graphing\n",
    "import matplotlib.pyplot as plt\n",
    "from matplotlib.ticker import StrMethodFormatter\n",
    "from matplotlib import colors\n",
    "from matplotlib.ticker import PercentFormatter\n",
    "import seaborn as sns\n",
    "\n",
    "# for loading telo data column containing individual telomere length values\n",
    "from ast import literal_eval\n",
    "\n",
    "# statistics\n",
    "from scipy import stats\n",
    "\n",
    "# accessing telo_tools module, which is in the parent directory, for testing\n",
    "import sys \n",
    "sys.path.append('..')\n",
    "import telo_tools"
   ]
  },
  {
   "cell_type": "code",
   "execution_count": 8,
   "metadata": {},
   "outputs": [],
   "source": [
    "# fxn for reading files\n",
    "# test_df['telo data'] = test_df['telo data'].apply(lambda row: np.array(literal_eval(row)))"
   ]
  },
  {
   "cell_type": "markdown",
   "metadata": {},
   "source": [
    "## Test compiling individual telomere length data and generating data into a dataframe"
   ]
  },
  {
   "cell_type": "code",
   "execution_count": 28,
   "metadata": {},
   "outputs": [
    {
     "name": "stdout",
     "output_type": "stream",
     "text": [
      "xyz9999_FD45.xlsx telomere data acquisition in progress..\n",
      "xyz9999_L-180.xlsx telomere data acquisition in progress..\n",
      "xyz9999_L-60.xlsx telomere data acquisition in progress..\n",
      "Done collecting all telomere length excel files\n"
     ]
    }
   ],
   "source": [
    "# compiling test data from excel files into a dict\n",
    "test_dict = telo_tools.generate_dictionary_for_telomere_length_data('.')"
   ]
  },
  {
   "cell_type": "code",
   "execution_count": 12,
   "metadata": {},
   "outputs": [
    {
     "data": {
      "text/html": [
       "<div>\n",
       "<style scoped>\n",
       "    .dataframe tbody tr th:only-of-type {\n",
       "        vertical-align: middle;\n",
       "    }\n",
       "\n",
       "    .dataframe tbody tr th {\n",
       "        vertical-align: top;\n",
       "    }\n",
       "\n",
       "    .dataframe thead th {\n",
       "        text-align: right;\n",
       "    }\n",
       "</style>\n",
       "<table border=\"1\" class=\"dataframe\">\n",
       "  <thead>\n",
       "    <tr style=\"text-align: right;\">\n",
       "      <th></th>\n",
       "      <th>sample id</th>\n",
       "      <th>timepoint</th>\n",
       "      <th>telo data</th>\n",
       "      <th>telo means</th>\n",
       "      <th>Q1</th>\n",
       "      <th>Q2-3</th>\n",
       "      <th>Q4</th>\n",
       "    </tr>\n",
       "  </thead>\n",
       "  <tbody>\n",
       "    <tr>\n",
       "      <th>0</th>\n",
       "      <td>9999</td>\n",
       "      <td>FD45</td>\n",
       "      <td>4537     6589.0\n",
       "1005    11666.0\n",
       "2797    11540....</td>\n",
       "      <td>9273.515870</td>\n",
       "      <td>telos quartile 1 &lt;0.25</td>\n",
       "      <td>telos quartile 2-3 &gt;0.25 &amp; &lt;0.75</td>\n",
       "      <td>telos quartile 4 &gt;0.75</td>\n",
       "    </tr>\n",
       "    <tr>\n",
       "      <th>1</th>\n",
       "      <td>9999</td>\n",
       "      <td>L-180</td>\n",
       "      <td>0        5802.0\n",
       "1       18223.0\n",
       "2       10506....</td>\n",
       "      <td>10317.742572</td>\n",
       "      <td>telos quartile 1 &lt;0.25</td>\n",
       "      <td>telos quartile 2-3 &gt;0.25 &amp; &lt;0.75</td>\n",
       "      <td>telos quartile 4 &gt;0.75</td>\n",
       "    </tr>\n",
       "    <tr>\n",
       "      <th>2</th>\n",
       "      <td>9999</td>\n",
       "      <td>L-60</td>\n",
       "      <td>0       14177.0\n",
       "1       11729.0\n",
       "2        9170....</td>\n",
       "      <td>10801.377174</td>\n",
       "      <td>telos quartile 1 &lt;0.25</td>\n",
       "      <td>telos quartile 2-3 &gt;0.25 &amp; &lt;0.75</td>\n",
       "      <td>telos quartile 4 &gt;0.75</td>\n",
       "    </tr>\n",
       "  </tbody>\n",
       "</table>\n",
       "</div>"
      ],
      "text/plain": [
       "  sample id timepoint                                          telo data  \\\n",
       "0      9999      FD45  4537     6589.0\n",
       "1005    11666.0\n",
       "2797    11540....   \n",
       "1      9999     L-180  0        5802.0\n",
       "1       18223.0\n",
       "2       10506....   \n",
       "2      9999      L-60  0       14177.0\n",
       "1       11729.0\n",
       "2        9170....   \n",
       "\n",
       "     telo means                      Q1                              Q2-3  \\\n",
       "0   9273.515870  telos quartile 1 <0.25  telos quartile 2-3 >0.25 & <0.75   \n",
       "1  10317.742572  telos quartile 1 <0.25  telos quartile 2-3 >0.25 & <0.75   \n",
       "2  10801.377174  telos quartile 1 <0.25  telos quartile 2-3 >0.25 & <0.75   \n",
       "\n",
       "                       Q4  \n",
       "0  telos quartile 4 >0.75  \n",
       "1  telos quartile 4 >0.75  \n",
       "2  telos quartile 4 >0.75  "
      ]
     },
     "execution_count": 12,
     "metadata": {},
     "output_type": "execute_result"
    }
   ],
   "source": [
    "# generating a pandas dataframe from the dict\n",
    "test_df = telo_tools.make_dataframe_from_telomere_data_dict(test_dict)\n",
    "test_df.head(4)"
   ]
  },
  {
   "cell_type": "code",
   "execution_count": 27,
   "metadata": {},
   "outputs": [
    {
     "name": "stdout",
     "output_type": "stream",
     "text": [
      "The autoreload extension is already loaded. To reload it, use:\n",
      "  %reload_ext autoreload\n"
     ]
    }
   ],
   "source": [
    "import importlib\n",
    "%load_ext autoreload\n",
    "%autoreload 2\n",
    "%reload_ext autoreload"
   ]
  },
  {
   "cell_type": "markdown",
   "metadata": {},
   "source": [
    "## Counting short/medium/long individual telomeres"
   ]
  },
  {
   "cell_type": "code",
   "execution_count": 15,
   "metadata": {},
   "outputs": [
    {
     "data": {
      "text/html": [
       "<div>\n",
       "<style scoped>\n",
       "    .dataframe tbody tr th:only-of-type {\n",
       "        vertical-align: middle;\n",
       "    }\n",
       "\n",
       "    .dataframe tbody tr th {\n",
       "        vertical-align: top;\n",
       "    }\n",
       "\n",
       "    .dataframe thead th {\n",
       "        text-align: right;\n",
       "    }\n",
       "</style>\n",
       "<table border=\"1\" class=\"dataframe\">\n",
       "  <thead>\n",
       "    <tr style=\"text-align: right;\">\n",
       "      <th></th>\n",
       "      <th>sample id</th>\n",
       "      <th>timepoint</th>\n",
       "      <th>telo data</th>\n",
       "      <th>telo means</th>\n",
       "      <th>Q1</th>\n",
       "      <th>Q2-3</th>\n",
       "      <th>Q4</th>\n",
       "    </tr>\n",
       "  </thead>\n",
       "  <tbody>\n",
       "    <tr>\n",
       "      <th>0</th>\n",
       "      <td>9999</td>\n",
       "      <td>L-180</td>\n",
       "      <td>0        5802.0\n",
       "1       18223.0\n",
       "2       10506....</td>\n",
       "      <td>10317.742572</td>\n",
       "      <td>[1380]</td>\n",
       "      <td>[2760]</td>\n",
       "      <td>[1380]</td>\n",
       "    </tr>\n",
       "    <tr>\n",
       "      <th>1</th>\n",
       "      <td>9999</td>\n",
       "      <td>L-60</td>\n",
       "      <td>0       14177.0\n",
       "1       11729.0\n",
       "2        9170....</td>\n",
       "      <td>10801.377174</td>\n",
       "      <td>[1328]</td>\n",
       "      <td>[2460]</td>\n",
       "      <td>[1732]</td>\n",
       "    </tr>\n",
       "    <tr>\n",
       "      <th>2</th>\n",
       "      <td>9999</td>\n",
       "      <td>FD45</td>\n",
       "      <td>4537     6589.0\n",
       "1005    11666.0\n",
       "2797    11540....</td>\n",
       "      <td>9273.515870</td>\n",
       "      <td>[1645]</td>\n",
       "      <td>[2289]</td>\n",
       "      <td>[666]</td>\n",
       "    </tr>\n",
       "  </tbody>\n",
       "</table>\n",
       "</div>"
      ],
      "text/plain": [
       "  sample id timepoint                                          telo data  \\\n",
       "0      9999     L-180  0        5802.0\n",
       "1       18223.0\n",
       "2       10506....   \n",
       "1      9999      L-60  0       14177.0\n",
       "1       11729.0\n",
       "2        9170....   \n",
       "2      9999      FD45  4537     6589.0\n",
       "1005    11666.0\n",
       "2797    11540....   \n",
       "\n",
       "     telo means      Q1    Q2-3      Q4  \n",
       "0  10317.742572  [1380]  [2760]  [1380]  \n",
       "1  10801.377174  [1328]  [2460]  [1732]  \n",
       "2   9273.515870  [1645]  [2289]   [666]  "
      ]
     },
     "execution_count": 15,
     "metadata": {},
     "output_type": "execute_result"
    }
   ],
   "source": [
    "# declaring a list of \n",
    "timepoint_list = ['L-180', 'L-60', 'FD45', 'FD90', 'FD140', 'FD260', 'R+5', 'R+7', 'R+60', 'R+105', 'R+180', 'R+270']\n",
    "\n",
    "telo_tools.calculate_apply_teloQuartiles_dataframe(test_df, timepoint_list)"
   ]
  },
  {
   "cell_type": "markdown",
   "metadata": {},
   "source": [
    "## Exploding individual telomere length measurements into the dataframe as rows"
   ]
  },
  {
   "cell_type": "code",
   "execution_count": 19,
   "metadata": {},
   "outputs": [],
   "source": [
    "def explode_individual_telos(df):\n",
    "    exploded_telos = (df['telo data'].apply(pd.Series)\n",
    "        .merge(df, right_index = True, left_index = True)                  \n",
    "        .drop('telo data', axis=1)\n",
    "        .melt(id_vars = [col for col in df.columns if col != 'telo data'], value_name = \"individual telos\") \n",
    "        .drop(\"variable\", axis = 1)\n",
    "        .dropna())\n",
    "    \n",
    "    exploded_telos['individual telos'] = exploded_telos['individual telos'].astype('int64')\n",
    "    \n",
    "    return exploded_telos"
   ]
  },
  {
   "cell_type": "code",
   "execution_count": 21,
   "metadata": {},
   "outputs": [],
   "source": [
    "# explode_individual_telos(test_df)"
   ]
  },
  {
   "cell_type": "code",
   "execution_count": null,
   "metadata": {},
   "outputs": [],
   "source": []
  }
 ],
 "metadata": {
  "kernelspec": {
   "display_name": "Python 3",
   "language": "python",
   "name": "python3"
  },
  "language_info": {
   "codemirror_mode": {
    "name": "ipython",
    "version": 3
   },
   "file_extension": ".py",
   "mimetype": "text/x-python",
   "name": "python",
   "nbconvert_exporter": "python",
   "pygments_lexer": "ipython3",
   "version": "3.7.4"
  },
  "toc-autonumbering": true
 },
 "nbformat": 4,
 "nbformat_minor": 2
}
