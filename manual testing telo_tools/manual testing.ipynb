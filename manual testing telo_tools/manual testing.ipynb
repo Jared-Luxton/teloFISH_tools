{
 "cells": [
  {
   "cell_type": "markdown",
   "metadata": {},
   "source": [
    "# Testing functions in telo_tools for handling individual telomere length data"
   ]
  },
  {
   "cell_type": "code",
   "execution_count": 1,
   "metadata": {},
   "outputs": [],
   "source": [
    "# enables access to directories/files\n",
    "import os\n",
    "\n",
    "# for handling data\n",
    "import numpy as np\n",
    "from numpy import array\n",
    "import pandas as pd\n",
    "from pandas import ExcelWriter\n",
    "from pandas import ExcelFile\n",
    "\n",
    "# graphing\n",
    "import matplotlib.pyplot as plt\n",
    "from matplotlib.ticker import StrMethodFormatter\n",
    "from matplotlib import colors\n",
    "from matplotlib.ticker import PercentFormatter\n",
    "import seaborn as sns\n",
    "\n",
    "# for loading telo data column containing individual telomere length values\n",
    "from ast import literal_eval\n",
    "\n",
    "# statistics\n",
    "from scipy import stats\n",
    "\n",
    "# accessing telo_tools module, which is in the parent directory, for testing\n",
    "import sys \n",
    "sys.path.append('..')\n",
    "import telo_tools"
   ]
  },
  {
   "cell_type": "code",
   "execution_count": 2,
   "metadata": {},
   "outputs": [],
   "source": [
    "# fxn for reading files\n",
    "# test_df['telo data'] = test_df['telo data'].apply(lambda row: np.array(literal_eval(row)))"
   ]
  },
  {
   "cell_type": "markdown",
   "metadata": {},
   "source": [
    "## Test compiling individual telomere length data and generating data into a dataframe"
   ]
  },
  {
   "cell_type": "code",
   "execution_count": 19,
   "metadata": {},
   "outputs": [
    {
     "name": "stdout",
     "output_type": "stream",
     "text": [
      "xyz9999_FD45.xlsx telomere data acquisition in progress..\n",
      "xyz9999_L-180.xlsx telomere data acquisition in progress..\n",
      "xyz9999_L-60.xlsx telomere data acquisition in progress..\n",
      "Done collecting all telomere length excel files\n"
     ]
    }
   ],
   "source": [
    "# compiling test data from excel files into a dict\n",
    "test_dict = telo_tools.generate_dictionary_for_telomere_length_data('.')"
   ]
  },
  {
   "cell_type": "code",
   "execution_count": 23,
   "metadata": {},
   "outputs": [
    {
     "data": {
      "text/html": [
       "<div>\n",
       "<style scoped>\n",
       "    .dataframe tbody tr th:only-of-type {\n",
       "        vertical-align: middle;\n",
       "    }\n",
       "\n",
       "    .dataframe tbody tr th {\n",
       "        vertical-align: top;\n",
       "    }\n",
       "\n",
       "    .dataframe thead th {\n",
       "        text-align: right;\n",
       "    }\n",
       "</style>\n",
       "<table border=\"1\" class=\"dataframe\">\n",
       "  <thead>\n",
       "    <tr style=\"text-align: right;\">\n",
       "      <th></th>\n",
       "      <th>sample id</th>\n",
       "      <th>timepoint</th>\n",
       "      <th>telo data</th>\n",
       "      <th>telo means</th>\n",
       "      <th>Q1</th>\n",
       "      <th>Q2-3</th>\n",
       "      <th>Q4</th>\n",
       "    </tr>\n",
       "  </thead>\n",
       "  <tbody>\n",
       "    <tr>\n",
       "      <th>0</th>\n",
       "      <td>9999</td>\n",
       "      <td>FD45</td>\n",
       "      <td>0        7458.0\n",
       "1        9788.0\n",
       "2       12234....</td>\n",
       "      <td>9261.618841</td>\n",
       "      <td>telos quartile 1 &lt;0.25</td>\n",
       "      <td>telos quartile 2-3 &gt;0.25 &amp; &lt;0.75</td>\n",
       "      <td>telos quartile 4 &gt;0.75</td>\n",
       "    </tr>\n",
       "    <tr>\n",
       "      <th>1</th>\n",
       "      <td>9999</td>\n",
       "      <td>L-180</td>\n",
       "      <td>0        8421.0\n",
       "1       10914.0\n",
       "2       13383....</td>\n",
       "      <td>10317.742572</td>\n",
       "      <td>telos quartile 1 &lt;0.25</td>\n",
       "      <td>telos quartile 2-3 &gt;0.25 &amp; &lt;0.75</td>\n",
       "      <td>telos quartile 4 &gt;0.75</td>\n",
       "    </tr>\n",
       "    <tr>\n",
       "      <th>2</th>\n",
       "      <td>9999</td>\n",
       "      <td>L-60</td>\n",
       "      <td>0       11208.0\n",
       "1       10514.0\n",
       "2       11833....</td>\n",
       "      <td>10801.377174</td>\n",
       "      <td>telos quartile 1 &lt;0.25</td>\n",
       "      <td>telos quartile 2-3 &gt;0.25 &amp; &lt;0.75</td>\n",
       "      <td>telos quartile 4 &gt;0.75</td>\n",
       "    </tr>\n",
       "  </tbody>\n",
       "</table>\n",
       "</div>"
      ],
      "text/plain": [
       "  sample id timepoint                                          telo data  \\\n",
       "0      9999      FD45  0        7458.0\n",
       "1        9788.0\n",
       "2       12234....   \n",
       "1      9999     L-180  0        8421.0\n",
       "1       10914.0\n",
       "2       13383....   \n",
       "2      9999      L-60  0       11208.0\n",
       "1       10514.0\n",
       "2       11833....   \n",
       "\n",
       "     telo means                      Q1                              Q2-3  \\\n",
       "0   9261.618841  telos quartile 1 <0.25  telos quartile 2-3 >0.25 & <0.75   \n",
       "1  10317.742572  telos quartile 1 <0.25  telos quartile 2-3 >0.25 & <0.75   \n",
       "2  10801.377174  telos quartile 1 <0.25  telos quartile 2-3 >0.25 & <0.75   \n",
       "\n",
       "                       Q4  \n",
       "0  telos quartile 4 >0.75  \n",
       "1  telos quartile 4 >0.75  \n",
       "2  telos quartile 4 >0.75  "
      ]
     },
     "execution_count": 23,
     "metadata": {},
     "output_type": "execute_result"
    }
   ],
   "source": [
    "# generating a pandas dataframe from the dict\n",
    "timepoint_list = ['L-180', 'L-60', 'FD45', 'FD90', 'FD140', 'FD260', 'R+5', 'R+7', 'R+60', 'R+105', 'R+180', 'R+270']\n",
    "\n",
    "test_df = telo_tools.make_dataframe_from_telomere_data_dict(test_dict, timepoint_list)\n",
    "test_df.head(4)"
   ]
  },
  {
   "cell_type": "markdown",
   "metadata": {},
   "source": [
    "## Test counting short/medium/long individual telomeres"
   ]
  },
  {
   "cell_type": "code",
   "execution_count": 8,
   "metadata": {},
   "outputs": [
    {
     "data": {
      "text/html": [
       "<div>\n",
       "<style scoped>\n",
       "    .dataframe tbody tr th:only-of-type {\n",
       "        vertical-align: middle;\n",
       "    }\n",
       "\n",
       "    .dataframe tbody tr th {\n",
       "        vertical-align: top;\n",
       "    }\n",
       "\n",
       "    .dataframe thead th {\n",
       "        text-align: right;\n",
       "    }\n",
       "</style>\n",
       "<table border=\"1\" class=\"dataframe\">\n",
       "  <thead>\n",
       "    <tr style=\"text-align: right;\">\n",
       "      <th></th>\n",
       "      <th>sample id</th>\n",
       "      <th>timepoint</th>\n",
       "      <th>telo data</th>\n",
       "      <th>telo means</th>\n",
       "      <th>Q1</th>\n",
       "      <th>Q2-3</th>\n",
       "      <th>Q4</th>\n",
       "    </tr>\n",
       "  </thead>\n",
       "  <tbody>\n",
       "    <tr>\n",
       "      <th>0</th>\n",
       "      <td>9999</td>\n",
       "      <td>L-180</td>\n",
       "      <td>0        8969.0\n",
       "1        8973.0\n",
       "2       11786....</td>\n",
       "      <td>10317.742572</td>\n",
       "      <td>[1380]</td>\n",
       "      <td>[2760]</td>\n",
       "      <td>[1380]</td>\n",
       "    </tr>\n",
       "    <tr>\n",
       "      <th>1</th>\n",
       "      <td>9999</td>\n",
       "      <td>L-60</td>\n",
       "      <td>0        8556.0\n",
       "1       15465.0\n",
       "2       10365....</td>\n",
       "      <td>10801.377174</td>\n",
       "      <td>[1328]</td>\n",
       "      <td>[2460]</td>\n",
       "      <td>[1732]</td>\n",
       "    </tr>\n",
       "    <tr>\n",
       "      <th>2</th>\n",
       "      <td>9999</td>\n",
       "      <td>FD45</td>\n",
       "      <td>0        8235.0\n",
       "1        6624.0\n",
       "2       10942....</td>\n",
       "      <td>9261.618841</td>\n",
       "      <td>[1970]</td>\n",
       "      <td>[2769]</td>\n",
       "      <td>[781]</td>\n",
       "    </tr>\n",
       "  </tbody>\n",
       "</table>\n",
       "</div>"
      ],
      "text/plain": [
       "  sample id timepoint                                          telo data  \\\n",
       "0      9999     L-180  0        8969.0\n",
       "1        8973.0\n",
       "2       11786....   \n",
       "1      9999      L-60  0        8556.0\n",
       "1       15465.0\n",
       "2       10365....   \n",
       "2      9999      FD45  0        8235.0\n",
       "1        6624.0\n",
       "2       10942....   \n",
       "\n",
       "     telo means      Q1    Q2-3      Q4  \n",
       "0  10317.742572  [1380]  [2760]  [1380]  \n",
       "1  10801.377174  [1328]  [2460]  [1732]  \n",
       "2   9261.618841  [1970]  [2769]   [781]  "
      ]
     },
     "execution_count": 8,
     "metadata": {},
     "output_type": "execute_result"
    }
   ],
   "source": [
    "# declaring a list of \n",
    "timepoint_list = ['L-180', 'L-60', 'FD45', 'FD90', 'FD140', 'FD260', 'R+5', 'R+7', 'R+60', 'R+105', 'R+180', 'R+270']\n",
    "\n",
    "telo_tools.calculate_apply_teloQuartiles_dataframe(test_df, timepoint_list)"
   ]
  },
  {
   "cell_type": "markdown",
   "metadata": {},
   "source": [
    "## Test exploding individual telomere length measurements into the dataframe as rows"
   ]
  },
  {
   "cell_type": "code",
   "execution_count": 9,
   "metadata": {},
   "outputs": [],
   "source": [
    "test_df2 = telo_tools.explode_individual_telos(test_df)"
   ]
  },
  {
   "cell_type": "code",
   "execution_count": 10,
   "metadata": {},
   "outputs": [
    {
     "name": "stdout",
     "output_type": "stream",
     "text": [
      "(16560, 7)\n"
     ]
    },
    {
     "data": {
      "text/html": [
       "<div>\n",
       "<style scoped>\n",
       "    .dataframe tbody tr th:only-of-type {\n",
       "        vertical-align: middle;\n",
       "    }\n",
       "\n",
       "    .dataframe tbody tr th {\n",
       "        vertical-align: top;\n",
       "    }\n",
       "\n",
       "    .dataframe thead th {\n",
       "        text-align: right;\n",
       "    }\n",
       "</style>\n",
       "<table border=\"1\" class=\"dataframe\">\n",
       "  <thead>\n",
       "    <tr style=\"text-align: right;\">\n",
       "      <th></th>\n",
       "      <th>sample id</th>\n",
       "      <th>timepoint</th>\n",
       "      <th>telo means</th>\n",
       "      <th>Q1</th>\n",
       "      <th>Q2-3</th>\n",
       "      <th>Q4</th>\n",
       "      <th>individual telos</th>\n",
       "    </tr>\n",
       "  </thead>\n",
       "  <tbody>\n",
       "    <tr>\n",
       "      <th>0</th>\n",
       "      <td>9999</td>\n",
       "      <td>FD45</td>\n",
       "      <td>9261.618841</td>\n",
       "      <td>telos quartile 1 &lt;0.25</td>\n",
       "      <td>telos quartile 2-3 &gt;0.25 &amp; &lt;0.75</td>\n",
       "      <td>telos quartile 4 &gt;0.75</td>\n",
       "      <td>8235</td>\n",
       "    </tr>\n",
       "    <tr>\n",
       "      <th>1</th>\n",
       "      <td>9999</td>\n",
       "      <td>L-180</td>\n",
       "      <td>10317.742572</td>\n",
       "      <td>telos quartile 1 &lt;0.25</td>\n",
       "      <td>telos quartile 2-3 &gt;0.25 &amp; &lt;0.75</td>\n",
       "      <td>telos quartile 4 &gt;0.75</td>\n",
       "      <td>8969</td>\n",
       "    </tr>\n",
       "    <tr>\n",
       "      <th>2</th>\n",
       "      <td>9999</td>\n",
       "      <td>L-60</td>\n",
       "      <td>10801.377174</td>\n",
       "      <td>telos quartile 1 &lt;0.25</td>\n",
       "      <td>telos quartile 2-3 &gt;0.25 &amp; &lt;0.75</td>\n",
       "      <td>telos quartile 4 &gt;0.75</td>\n",
       "      <td>8556</td>\n",
       "    </tr>\n",
       "  </tbody>\n",
       "</table>\n",
       "</div>"
      ],
      "text/plain": [
       "  sample id timepoint    telo means                      Q1  \\\n",
       "0      9999      FD45   9261.618841  telos quartile 1 <0.25   \n",
       "1      9999     L-180  10317.742572  telos quartile 1 <0.25   \n",
       "2      9999      L-60  10801.377174  telos quartile 1 <0.25   \n",
       "\n",
       "                               Q2-3                      Q4  individual telos  \n",
       "0  telos quartile 2-3 >0.25 & <0.75  telos quartile 4 >0.75              8235  \n",
       "1  telos quartile 2-3 >0.25 & <0.75  telos quartile 4 >0.75              8969  \n",
       "2  telos quartile 2-3 >0.25 & <0.75  telos quartile 4 >0.75              8556  "
      ]
     },
     "execution_count": 10,
     "metadata": {},
     "output_type": "execute_result"
    }
   ],
   "source": [
    "print(test_df2.shape)\n",
    "test_df2.head(3)"
   ]
  },
  {
   "cell_type": "code",
   "execution_count": 22,
   "metadata": {},
   "outputs": [
    {
     "name": "stdout",
     "output_type": "stream",
     "text": [
      "The autoreload extension is already loaded. To reload it, use:\n",
      "  %reload_ext autoreload\n"
     ]
    }
   ],
   "source": [
    "import importlib\n",
    "%load_ext autoreload\n",
    "%autoreload 2\n",
    "%reload_ext autoreload"
   ]
  },
  {
   "cell_type": "markdown",
   "metadata": {},
   "source": [
    "## Testing graphing by histogram"
   ]
  },
  {
   "cell_type": "code",
   "execution_count": 244,
   "metadata": {},
   "outputs": [],
   "source": [
    "# ls '../../NASA repo/NASA-astronauts-telomeres-chromosomes/excel data/'"
   ]
  },
  {
   "cell_type": "code",
   "execution_count": 239,
   "metadata": {},
   "outputs": [
    {
     "data": {
      "text/html": [
       "<div>\n",
       "<style scoped>\n",
       "    .dataframe tbody tr th:only-of-type {\n",
       "        vertical-align: middle;\n",
       "    }\n",
       "\n",
       "    .dataframe tbody tr th {\n",
       "        vertical-align: top;\n",
       "    }\n",
       "\n",
       "    .dataframe thead th {\n",
       "        text-align: right;\n",
       "    }\n",
       "</style>\n",
       "<table border=\"1\" class=\"dataframe\">\n",
       "  <thead>\n",
       "    <tr style=\"text-align: right;\">\n",
       "      <th></th>\n",
       "      <th>astro number</th>\n",
       "      <th>astro id</th>\n",
       "      <th>timepoint</th>\n",
       "      <th>flight status</th>\n",
       "      <th>telo means</th>\n",
       "      <th>telo data exploded</th>\n",
       "    </tr>\n",
       "  </thead>\n",
       "  <tbody>\n",
       "    <tr>\n",
       "      <th>0</th>\n",
       "      <td>1</td>\n",
       "      <td>5163</td>\n",
       "      <td>L-270</td>\n",
       "      <td>Pre-Flight</td>\n",
       "      <td>87.672120</td>\n",
       "      <td>46.976278</td>\n",
       "    </tr>\n",
       "    <tr>\n",
       "      <th>1</th>\n",
       "      <td>1</td>\n",
       "      <td>5163</td>\n",
       "      <td>L-180</td>\n",
       "      <td>Pre-Flight</td>\n",
       "      <td>101.077756</td>\n",
       "      <td>102.388907</td>\n",
       "    </tr>\n",
       "    <tr>\n",
       "      <th>2</th>\n",
       "      <td>1</td>\n",
       "      <td>5163</td>\n",
       "      <td>L-60</td>\n",
       "      <td>Pre-Flight</td>\n",
       "      <td>128.599235</td>\n",
       "      <td>92.432342</td>\n",
       "    </tr>\n",
       "    <tr>\n",
       "      <th>3</th>\n",
       "      <td>1</td>\n",
       "      <td>5163</td>\n",
       "      <td>FD90</td>\n",
       "      <td>Mid-Flight</td>\n",
       "      <td>101.183129</td>\n",
       "      <td>89.224858</td>\n",
       "    </tr>\n",
       "  </tbody>\n",
       "</table>\n",
       "</div>"
      ],
      "text/plain": [
       "   astro number  astro id timepoint flight status  telo means  \\\n",
       "0             1      5163     L-270    Pre-Flight   87.672120   \n",
       "1             1      5163     L-180    Pre-Flight  101.077756   \n",
       "2             1      5163      L-60    Pre-Flight  128.599235   \n",
       "3             1      5163      FD90    Mid-Flight  101.183129   \n",
       "\n",
       "   telo data exploded  \n",
       "0           46.976278  \n",
       "1          102.388907  \n",
       "2           92.432342  \n",
       "3           89.224858  "
      ]
     },
     "execution_count": 239,
     "metadata": {},
     "output_type": "execute_result"
    }
   ],
   "source": [
    "all_astros_df = pd.read_csv('../../NASA repo/NASA-astronauts-telomeres-chromosomes/excel data/exploded_telos_astros_df.csv')\n",
    "all_astros_df.head(4)"
   ]
  },
  {
   "cell_type": "code",
   "execution_count": 225,
   "metadata": {},
   "outputs": [],
   "source": [
    "import math"
   ]
  },
  {
   "cell_type": "code",
   "execution_count": 258,
   "metadata": {},
   "outputs": [],
   "source": [
    "def histogram_plot_groups(x=None, df=None, sample_id_col=None, groupby=None, \n",
    "                          num_samps_per_group=None, ordered_timepoint_list=None, n_bins=40):\n",
    "    \n",
    "    all_samples = list(df[sample_id_col].unique())\n",
    "    group_df = df.groupby(groupby)\n",
    "    \n",
    "    for sample in all_samples:\n",
    "        timepoint_telo_values_dict = {}\n",
    "        \n",
    "        plot_df = group_df.get_group(sample)\n",
    "        plot_df = order_timepoint_col(plot_df, ordered_timepoint_list)\n",
    "\n",
    "        sample_unique_timepoints = list(plot_df['timepoint'].unique())\n",
    "        \n",
    "        for timepoint in sample_unique_timepoints:\n",
    "            \n",
    "            sample_ID_complete = str(list(plot_df[sample_id_col].unique())[0]) + ' ' + str(timepoint)\n",
    "            timepoint_telo_values_dict[sample_ID_complete] = plot_df[plot_df['timepoint'] == timepoint][x]\n",
    "            \n",
    "        if len(timepoint_telo_values_dict.keys()) > 1:\n",
    "            \n",
    "            n_rows = len(timepoint_telo_values_dict.keys()) / 2\n",
    "            n_rows = int(math.ceil(n_rows))\n",
    "  \n",
    "            n_bins = n_bins\n",
    "            fig, axes = plt.subplots(n_rows, 2, sharey=True, sharex=True, constrained_layout=True, figsize = (8, 6))\n",
    "            sns.set_style(style=\"darkgrid\",rc= {'patch.edgecolor': 'black'})\n",
    "\n",
    "            for ax, item in zip(axes.flatten(), timepoint_telo_values_dict.items()):\n",
    "\n",
    "                name, data = item[0], item[1]\n",
    "                initial_timepoint = timepoint_telo_values_dict[list(timepoint_telo_values_dict.keys())[0]]\n",
    "                histogram_stylizer_divyBins_byQuartile(fig, ax, n_bins, data, initial_timepoint, f'{name}')\n",
    "                \n"
   ]
  },
  {
   "cell_type": "code",
   "execution_count": 259,
   "metadata": {},
   "outputs": [
    {
     "data": {
      "image/png": "[encoded data removed]",
      "text/plain": [
       "<Figure size 576x432 with 4 Axes>"
      ]
     },
     "metadata": {},
     "output_type": "display_data"
    }
   ],
   "source": [
    "timepoint_list = ['L-180', 'L-60', 'FD45', 'FD90', 'FD140', 'FD260', 'R+5', 'R+7', 'R+60', 'R+105', 'R+180', 'R+270']\n",
    "\n",
    "histogram_plot_groups(x='individual telos', df=test_df2, \n",
    "                      sample_id_col='sample id', groupby='sample id', \n",
    "                      num_samps_per_group=3, ordered_timepoint_list=timepoint_list)"
   ]
  },
  {
   "cell_type": "code",
   "execution_count": 255,
   "metadata": {},
   "outputs": [],
   "source": [
    "def histogram_stylizer_divyBins_byQuartile(fig, ax, n_bins, data, initial_timepoint, name):\n",
    "\n",
    "    data = data.to_numpy()\n",
    "    initial_timepoint = initial_timepoint.to_numpy()\n",
    "\n",
    "    N, bins, patches = ax.hist(data, bins=n_bins, edgecolor='black')\n",
    "\n",
    "    for a in range(len(patches)):\n",
    "        if bins[a] <= np.quantile(initial_timepoint, 0.25):\n",
    "            patches[a].set_facecolor('#fdff38')\n",
    "\n",
    "        elif np.quantile(initial_timepoint, 0.25) < bins[a] and bins[a] <= np.quantile(initial_timepoint, 0.50):\n",
    "            patches[a].set_facecolor('#d0fefe')\n",
    "\n",
    "        elif np.quantile(initial_timepoint, 0.50) < bins[a] and bins[a] <= np.quantile(initial_timepoint, 0.75):\n",
    "            patches[a].set_facecolor('#d0fefe')\n",
    "\n",
    "        elif bins[a] > np.quantile(initial_timepoint, 0.75): \n",
    "            patches[a].set_facecolor('#ffbacd')\n",
    "            \n",
    "    ax.set_title(f\"{name}\", fontsize=18,)\n",
    "    ax.tick_params(labelsize=12)\n",
    "#     ax.xaxis.set_major_locator(plt.MaxNLocator(12))"
   ]
  },
  {
   "cell_type": "code",
   "execution_count": 249,
   "metadata": {},
   "outputs": [],
   "source": [
    "def order_timepoint_col(df, ordered_timepoint_list):\n",
    "    df['timepoint'] = df['timepoint'].astype('category')\n",
    "    df['timepoint'].cat.set_categories(ordered_timepoint_list, inplace=True)\n",
    "    df = df.sort_values(['sample id', 'timepoint']).reset_index(drop=True).copy()\n",
    "    \n",
    "    return df"
   ]
  },
  {
   "cell_type": "code",
   "execution_count": null,
   "metadata": {},
   "outputs": [],
   "source": []
  }
 ],
 "metadata": {
  "kernelspec": {
   "display_name": "Python 3",
   "language": "python",
   "name": "python3"
  },
  "language_info": {
   "codemirror_mode": {
    "name": "ipython",
    "version": 3
   },
   "file_extension": ".py",
   "mimetype": "text/x-python",
   "name": "python",
   "nbconvert_exporter": "python",
   "pygments_lexer": "ipython3",
   "version": "3.7.4"
  },
  "toc-autonumbering": true
 },
 "nbformat": 4,
 "nbformat_minor": 2
}
